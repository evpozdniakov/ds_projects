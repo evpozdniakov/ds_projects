{
 "cells": [
  {
   "cell_type": "markdown",
   "id": "c8a6af25-08d3-487a-bd90-001772ac9161",
   "metadata": {},
   "source": [
    "## <center> **Анализ результатов A/B-тестирования**"
   ]
  },
  {
   "cell_type": "markdown",
   "id": "d7d45571-6545-4904-a86b-9b3b6b8163d3",
   "metadata": {},
   "source": [
    "Компания планирует запустить новую акцию, чтобы продать как можно больше туров. Команда разработала два варианта посадочной страницы официального сайта компании и провела A/B-тестирование. Собранные в результате проведения эксперимента данные вы можете найти здесь.\n",
    "\n",
    "Вам предстоит решить настоящую бизнес-задачу: проанализировать эффективность обоих вариантов посадочной страницы сразу по двум критериям: конверсии покупки и среднему чеку. На основе проведенного анализа вам будет необходимо сделать выводы и принять решение: какой из вариантов дизайна более предпочтительный.\n",
    "\n",
    "Итак, наша фирма предлагает следующие варианты туров и их соответствующие стоимости:\n",
    "* Таиланд — 100000 рублей;\n",
    "* Турция — 60000 рублей;\n",
    "* Мальдивы — 200000 рублей;\n",
    "* Санкт-Петербург — 10000 рублей;\n",
    "* Камчатка — 150000 рублей."
   ]
  },
  {
   "cell_type": "code",
   "execution_count": 7,
   "id": "a974b482-e192-4014-8520-8a5c0c946da6",
   "metadata": {},
   "outputs": [],
   "source": [
    "import numpy as np\n",
    "import pandas as pd\n",
    "import matplotlib.pyplot as plt\n",
    "import seaborn as sns\n",
    "from scipy.stats import norm\n",
    "from scipy.stats import t\n",
    "from scipy.stats import ttest_ind, shapiro, f_oneway, mannwhitneyu\n",
    "from statsmodels.stats.proportion import proportions_ztest"
   ]
  },
  {
   "cell_type": "markdown",
   "id": "55c84550-4162-4325-acc2-7d3c0aafe6f0",
   "metadata": {},
   "source": [
    "Прочитаем наши данные и посмотрим на столбцы таблицы:"
   ]
  },
  {
   "cell_type": "code",
   "execution_count": 242,
   "id": "b0d18245-b9da-44bd-8aea-d272ea74b63a",
   "metadata": {},
   "outputs": [
    {
     "data": {
      "text/html": [
       "<div>\n",
       "<style scoped>\n",
       "    .dataframe tbody tr th:only-of-type {\n",
       "        vertical-align: middle;\n",
       "    }\n",
       "\n",
       "    .dataframe tbody tr th {\n",
       "        vertical-align: top;\n",
       "    }\n",
       "\n",
       "    .dataframe thead th {\n",
       "        text-align: right;\n",
       "    }\n",
       "</style>\n",
       "<table border=\"1\" class=\"dataframe\">\n",
       "  <thead>\n",
       "    <tr style=\"text-align: right;\">\n",
       "      <th></th>\n",
       "      <th>user_id</th>\n",
       "      <th>date</th>\n",
       "      <th>group</th>\n",
       "      <th>purchase</th>\n",
       "      <th>price</th>\n",
       "    </tr>\n",
       "  </thead>\n",
       "  <tbody>\n",
       "    <tr>\n",
       "      <th>0</th>\n",
       "      <td>851104</td>\n",
       "      <td>2021-01-21</td>\n",
       "      <td>A</td>\n",
       "      <td>0</td>\n",
       "      <td>0</td>\n",
       "    </tr>\n",
       "    <tr>\n",
       "      <th>1</th>\n",
       "      <td>804228</td>\n",
       "      <td>2021-01-12</td>\n",
       "      <td>A</td>\n",
       "      <td>0</td>\n",
       "      <td>0</td>\n",
       "    </tr>\n",
       "    <tr>\n",
       "      <th>2</th>\n",
       "      <td>661590</td>\n",
       "      <td>2021-01-11</td>\n",
       "      <td>B</td>\n",
       "      <td>0</td>\n",
       "      <td>0</td>\n",
       "    </tr>\n",
       "    <tr>\n",
       "      <th>3</th>\n",
       "      <td>853541</td>\n",
       "      <td>2021-01-08</td>\n",
       "      <td>B</td>\n",
       "      <td>0</td>\n",
       "      <td>0</td>\n",
       "    </tr>\n",
       "    <tr>\n",
       "      <th>4</th>\n",
       "      <td>864975</td>\n",
       "      <td>2021-01-21</td>\n",
       "      <td>A</td>\n",
       "      <td>1</td>\n",
       "      <td>150000</td>\n",
       "    </tr>\n",
       "  </tbody>\n",
       "</table>\n",
       "</div>"
      ],
      "text/plain": [
       "   user_id        date group  purchase   price\n",
       "0   851104  2021-01-21     A         0       0\n",
       "1   804228  2021-01-12     A         0       0\n",
       "2   661590  2021-01-11     B         0       0\n",
       "3   853541  2021-01-08     B         0       0\n",
       "4   864975  2021-01-21     A         1  150000"
      ]
     },
     "execution_count": 242,
     "metadata": {},
     "output_type": "execute_result"
    }
   ],
   "source": [
    "data = pd.read_csv('ab_data_tourist.zip')\n",
    "data.head()"
   ]
  },
  {
   "cell_type": "markdown",
   "id": "2fc48225-26ac-49c4-b99d-8b2a03dd74a1",
   "metadata": {
    "tags": []
   },
   "source": [
    "## **Задание 7.1.**\n",
    "\n",
    "Начнем с исследования структуры наших данных. С помощью метода info() выведите информацию о типах данных и количестве непустых значений. Какой тип данных имеет столбец date?"
   ]
  },
  {
   "cell_type": "code",
   "execution_count": 243,
   "id": "23496521-4878-46e2-ab02-1a98be14884a",
   "metadata": {},
   "outputs": [
    {
     "name": "stdout",
     "output_type": "stream",
     "text": [
      "<class 'pandas.core.frame.DataFrame'>\n",
      "RangeIndex: 294478 entries, 0 to 294477\n",
      "Data columns (total 5 columns):\n",
      " #   Column    Non-Null Count   Dtype \n",
      "---  ------    --------------   ----- \n",
      " 0   user_id   294478 non-null  int64 \n",
      " 1   date      294478 non-null  object\n",
      " 2   group     294478 non-null  object\n",
      " 3   purchase  294478 non-null  int64 \n",
      " 4   price     294478 non-null  int64 \n",
      "dtypes: int64(3), object(2)\n",
      "memory usage: 11.2+ MB\n"
     ]
    }
   ],
   "source": [
    "data.info()"
   ]
  },
  {
   "cell_type": "markdown",
   "id": "ebe9b0d1",
   "metadata": {},
   "source": [
    "Наша таблица занимает **11.2 MB**. Немного оптимизируем данные чтобы они занимали меньше памяти.\n",
    "\n",
    "Столбец **purchase** может принимать только два значения 0 и 1, его можно преобразовать к типу **np.int8**"
   ]
  },
  {
   "cell_type": "code",
   "execution_count": 244,
   "id": "c9453e91",
   "metadata": {},
   "outputs": [],
   "source": [
    "data['purchase'] = np.int8(data['purchase'])"
   ]
  },
  {
   "cell_type": "markdown",
   "id": "1821fa40",
   "metadata": {},
   "source": [
    "Столбцы user_id и price тоже можно оптимизировать, но сначала нужно узнать их максимальные значения"
   ]
  },
  {
   "cell_type": "code",
   "execution_count": 245,
   "id": "e0d1e7db",
   "metadata": {},
   "outputs": [
    {
     "name": "stdout",
     "output_type": "stream",
     "text": [
      "user_id min 630000, max 945999\n",
      "price min 0, max 200000\n"
     ]
    }
   ],
   "source": [
    "print(f'user_id min {data[\"user_id\"].min()}, max {data[\"user_id\"].max()}')\n",
    "print(f'price min {data[\"price\"].min()}, max {data[\"price\"].max()}')\n"
   ]
  },
  {
   "cell_type": "markdown",
   "id": "e10572fe",
   "metadata": {},
   "source": [
    "Оба столбца можно преобразовать к **np.int32**"
   ]
  },
  {
   "cell_type": "code",
   "execution_count": 246,
   "id": "01369b7d",
   "metadata": {},
   "outputs": [],
   "source": [
    "data['user_id'] = np.int32(data['user_id'])\n",
    "data['price'] = np.int32(data['price'])"
   ]
  },
  {
   "cell_type": "markdown",
   "id": "91340a00",
   "metadata": {},
   "source": [
    "Убедимся что min/max в этих столбцах не поменялсь после преобразования"
   ]
  },
  {
   "cell_type": "code",
   "execution_count": 247,
   "id": "231feed4",
   "metadata": {},
   "outputs": [
    {
     "name": "stdout",
     "output_type": "stream",
     "text": [
      "user_id min 630000, max 945999\n",
      "price min 0, max 200000\n"
     ]
    }
   ],
   "source": [
    "print(f'user_id min {data[\"user_id\"].min()}, max {data[\"user_id\"].max()}')\n",
    "print(f'price min {data[\"price\"].min()}, max {data[\"price\"].max()}')\n"
   ]
  },
  {
   "cell_type": "markdown",
   "id": "72d020d1",
   "metadata": {},
   "source": [
    "Отлично. Проверим сколько памяти нам удалось сэкономить:"
   ]
  },
  {
   "cell_type": "code",
   "execution_count": 248,
   "id": "a1108851",
   "metadata": {},
   "outputs": [
    {
     "name": "stdout",
     "output_type": "stream",
     "text": [
      "<class 'pandas.core.frame.DataFrame'>\n",
      "RangeIndex: 294478 entries, 0 to 294477\n",
      "Data columns (total 5 columns):\n",
      " #   Column    Non-Null Count   Dtype \n",
      "---  ------    --------------   ----- \n",
      " 0   user_id   294478 non-null  int32 \n",
      " 1   date      294478 non-null  object\n",
      " 2   group     294478 non-null  object\n",
      " 3   purchase  294478 non-null  int8  \n",
      " 4   price     294478 non-null  int32 \n",
      "dtypes: int32(2), int8(1), object(2)\n",
      "memory usage: 7.0+ MB\n"
     ]
    }
   ],
   "source": [
    "data.info()"
   ]
  },
  {
   "cell_type": "markdown",
   "metadata": {},
   "source": [
    "Нам удалось сократить объем памяти примерно на треть."
   ]
  },
  {
   "cell_type": "markdown",
   "id": "9718df04",
   "metadata": {},
   "source": [
    "## **Задание 7.2.**\n",
    "\n",
    "Приведите столбец date к типу данных datetime. Убедитесь в равной длительности проведения тестирования для каждой из группы. Для этого сгруппируйте данные по признаку группы и определите первую и последнюю дату наблюдения для каждой из групп. \n",
    "\n",
    "В какой промежуток времени проводился A/B-тест?\n"
   ]
  },
  {
   "cell_type": "code",
   "execution_count": 249,
   "id": "42434dd9",
   "metadata": {},
   "outputs": [
    {
     "data": {
      "text/html": [
       "<div>\n",
       "<style scoped>\n",
       "    .dataframe tbody tr th:only-of-type {\n",
       "        vertical-align: middle;\n",
       "    }\n",
       "\n",
       "    .dataframe tbody tr th {\n",
       "        vertical-align: top;\n",
       "    }\n",
       "\n",
       "    .dataframe thead tr th {\n",
       "        text-align: left;\n",
       "    }\n",
       "\n",
       "    .dataframe thead tr:last-of-type th {\n",
       "        text-align: right;\n",
       "    }\n",
       "</style>\n",
       "<table border=\"1\" class=\"dataframe\">\n",
       "  <thead>\n",
       "    <tr>\n",
       "      <th></th>\n",
       "      <th colspan=\"2\" halign=\"left\">date</th>\n",
       "    </tr>\n",
       "    <tr>\n",
       "      <th></th>\n",
       "      <th>min</th>\n",
       "      <th>max</th>\n",
       "    </tr>\n",
       "    <tr>\n",
       "      <th>group</th>\n",
       "      <th></th>\n",
       "      <th></th>\n",
       "    </tr>\n",
       "  </thead>\n",
       "  <tbody>\n",
       "    <tr>\n",
       "      <th>A</th>\n",
       "      <td>2021-01-02</td>\n",
       "      <td>2021-01-24</td>\n",
       "    </tr>\n",
       "    <tr>\n",
       "      <th>B</th>\n",
       "      <td>2021-01-02</td>\n",
       "      <td>2021-01-24</td>\n",
       "    </tr>\n",
       "  </tbody>\n",
       "</table>\n",
       "</div>"
      ],
      "text/plain": [
       "            date           \n",
       "             min        max\n",
       "group                      \n",
       "A     2021-01-02 2021-01-24\n",
       "B     2021-01-02 2021-01-24"
      ]
     },
     "execution_count": 249,
     "metadata": {},
     "output_type": "execute_result"
    }
   ],
   "source": [
    "data['date'] = pd.to_datetime(data['date'])\n",
    "\n",
    "data.groupby('group').agg({'date': ['min', 'max']})"
   ]
  },
  {
   "cell_type": "markdown",
   "id": "e04eb341-52ae-48b3-9dc2-0578ca91641a",
   "metadata": {},
   "source": [
    "## **Задание 7.3.**\n",
    "\n",
    "* Чему равно количество посещений сайта в группах А и B?\n",
    "\n",
    "* Чему равно суммарное количество покупок в группах А и B?\n",
    "\n",
    "* Чему равна сумма всех покупок в группах А и B? Ответ приведите в миллионах рублей. Например, 185.52 млн. руб."
   ]
  },
  {
   "cell_type": "code",
   "execution_count": 250,
   "id": "02bf0148-488e-4f34-95bf-37794b2fa98b",
   "metadata": {},
   "outputs": [
    {
     "data": {
      "text/html": [
       "<div>\n",
       "<style scoped>\n",
       "    .dataframe tbody tr th:only-of-type {\n",
       "        vertical-align: middle;\n",
       "    }\n",
       "\n",
       "    .dataframe tbody tr th {\n",
       "        vertical-align: top;\n",
       "    }\n",
       "\n",
       "    .dataframe thead th {\n",
       "        text-align: right;\n",
       "    }\n",
       "</style>\n",
       "<table border=\"1\" class=\"dataframe\">\n",
       "  <thead>\n",
       "    <tr style=\"text-align: right;\">\n",
       "      <th></th>\n",
       "      <th>Кол-во посещений</th>\n",
       "      <th>Суммарное кол-во покупок</th>\n",
       "      <th>Сумма всех покупок (млн. руб)</th>\n",
       "    </tr>\n",
       "    <tr>\n",
       "      <th>group</th>\n",
       "      <th></th>\n",
       "      <th></th>\n",
       "      <th></th>\n",
       "    </tr>\n",
       "  </thead>\n",
       "  <tbody>\n",
       "    <tr>\n",
       "      <th>A</th>\n",
       "      <td>147202</td>\n",
       "      <td>17723.0</td>\n",
       "      <td>1436.26</td>\n",
       "    </tr>\n",
       "    <tr>\n",
       "      <th>B</th>\n",
       "      <td>147276</td>\n",
       "      <td>17514.0</td>\n",
       "      <td>1554.10</td>\n",
       "    </tr>\n",
       "  </tbody>\n",
       "</table>\n",
       "</div>"
      ],
      "text/plain": [
       "       Кол-во посещений  Суммарное кол-во покупок  \\\n",
       "group                                               \n",
       "A                147202                   17723.0   \n",
       "B                147276                   17514.0   \n",
       "\n",
       "       Сумма всех покупок (млн. руб)  \n",
       "group                                 \n",
       "A                            1436.26  \n",
       "B                            1554.10  "
      ]
     },
     "execution_count": 250,
     "metadata": {},
     "output_type": "execute_result"
    }
   ],
   "source": [
    "data2 = data.groupby('group').agg({'user_id': 'count', 'purchase': 'sum', 'price': 'sum'})\n",
    "\n",
    "data2['price'] = data2['price'] / 1000000\n",
    "\n",
    "data2.rename(columns={'user_id': 'Кол-во посещений', 'purchase': 'Суммарное кол-во покупок', 'price': 'Сумма всех покупок (млн. руб)'})"
   ]
  },
  {
   "cell_type": "markdown",
   "id": "2434db1b-17e6-4977-8e54-1df875c6f221",
   "metadata": {
    "tags": []
   },
   "source": [
    "## **Задание 7.4.**\n",
    "\n",
    "Проверьте, есть ли пользователи, которые в процессе A/B-теста попали в обе тестовые группы? Если да, то сколько таких уникальных пользователей, если нет - введите в поле для ответа 0?\n",
    "\n",
    "**Подсказка:**\n",
    "\n",
    "*Создайте множество пользователей группы А и множество пользователей группы B. Пересеките два этих множества (операция intersection) и вычислите количество элементов в полученном множестве.*\n"
   ]
  },
  {
   "cell_type": "code",
   "execution_count": 251,
   "id": "57a2d711-057d-4f8b-9f56-df0f772d41c8",
   "metadata": {},
   "outputs": [
    {
     "name": "stdout",
     "output_type": "stream",
     "text": [
      "Кол-во пользователей попавших в обе группы 1895\n"
     ]
    }
   ],
   "source": [
    "mask_a = data['group'] == 'A'\n",
    "mask_b = data['group'] == 'B'\n",
    "\n",
    "set_a = set(data[mask_a]['user_id'].values)\n",
    "set_b = set(data[mask_b]['user_id'].values)\n",
    "\n",
    "set_ab = set_a.intersection(set_b)\n",
    "\n",
    "print(f'Кол-во пользователей попавших в обе группы {len(set_ab)}')"
   ]
  },
  {
   "cell_type": "markdown",
   "id": "118b1904-7d7a-4935-825e-535da45c611b",
   "metadata": {
    "tags": []
   },
   "source": [
    "## **Исключите пользователей, оказавшихся в обеих группах**\n",
    "\n",
    "Так как мы не можем определить, какая из версий сайта повлияла на принятие решения, исключим этих пользователей. Далее мы будем работать только с очищенными от пересечений данными.\n",
    "\n",
    "Возможный вариант исключения пользователей:"
   ]
  },
  {
   "cell_type": "code",
   "execution_count": 252,
   "id": "f618b34b-35a3-4bf1-8d6d-38b3401930b7",
   "metadata": {},
   "outputs": [
    {
     "name": "stdout",
     "output_type": "stream",
     "text": [
      "В маске 3790 строк\n"
     ]
    }
   ],
   "source": [
    "# updated_data = data[data['user_id'].apply(lambda x: x not in user_intersection)]\n",
    "\n",
    "# Способ выше плох тем что не позволяет заранее узнать сколько пользователей\n",
    "# будет убрано из данных. Мы воспользуемся маской для фильтрации пользователей \n",
    "# попавших в обе группы. \n",
    "mask_ab_users = data['user_id'].isin(set_ab)\n",
    "\n",
    "print(f'В маске {mask_ab_users.sum()} строк')"
   ]
  },
  {
   "cell_type": "markdown",
   "id": "562accb6",
   "metadata": {},
   "source": [
    "Все правильно, ведь на каждого из 1985 пользователей попавших в обе группы имеется две строки в нашем датаферйме:\n",
    "\n",
    "1985 * 2 = 3790\n",
    "\n",
    "Получаем обновленный датафрейм"
   ]
  },
  {
   "cell_type": "code",
   "execution_count": 253,
   "id": "52761d46",
   "metadata": {},
   "outputs": [
    {
     "name": "stdout",
     "output_type": "stream",
     "text": [
      "Строк было 294478\n",
      "Строк стало 290688\n",
      "Разница 3790 строк\n"
     ]
    }
   ],
   "source": [
    "mask_not_ab_users = ~mask_ab_users\n",
    "\n",
    "updated_data = data[mask_not_ab_users]\n",
    "\n",
    "print(f'Строк было {data.shape[0]}')\n",
    "print(f'Строк стало {updated_data.shape[0]}')\n",
    "print(f'Разница {data.shape[0] - updated_data.shape[0]} строк')\n"
   ]
  },
  {
   "attachments": {
    "95f235d2-6323-4799-bf69-697fc57f727b.png": {
     "image/png": "[encoded data removed]"
    }
   },
   "cell_type": "markdown",
   "id": "2ddf6b2c-7987-41f3-82b1-8992630ae97b",
   "metadata": {
    "tags": []
   },
   "source": [
    "## **Задание 7.5.**\n",
    "\n",
    "Для первичного анализа результатов A/B-тестирования нам понадобится таблица следующего вида:\n",
    "\n",
    "\n",
    "|group|count_visits|count_purchases|sum_price|\n",
    "|-|-|-|-|\n",
    "|A|?|?|?|\n",
    "|B|?|?|?| \n",
    " \n",
    "Для того, чтобы получить такую таблицу, сгруппируйте данные по признаку группы. В каждой группе рассчитайте следующие показатели:\n",
    "* количество посещений (количество пользователей)\n",
    "* количество совершенных покупок\n",
    "* сумма всех покупок в группе\n",
    "\n",
    "В полученной сгруппированной таблице переименуйте столбцы на **count_visits, count_purchases и sum_price**.\n",
    "\n",
    "**Подсказка:**\n",
    "\n",
    "*Для переименования столбцов можно использовать метод rename() с параметром columns, в который передается словарь. Ключи этого словаря - старые имена столбцов, а значения - новые.*\n",
    "\n",
    "Чему на этот раз равно количество посещений сайта в группах А и B?\n"
   ]
  },
  {
   "cell_type": "code",
   "execution_count": 254,
   "id": "5c0c018e-a250-48e9-b72a-e3c7be586ebd",
   "metadata": {},
   "outputs": [
    {
     "data": {
      "text/html": [
       "<div>\n",
       "<style scoped>\n",
       "    .dataframe tbody tr th:only-of-type {\n",
       "        vertical-align: middle;\n",
       "    }\n",
       "\n",
       "    .dataframe tbody tr th {\n",
       "        vertical-align: top;\n",
       "    }\n",
       "\n",
       "    .dataframe thead th {\n",
       "        text-align: right;\n",
       "    }\n",
       "</style>\n",
       "<table border=\"1\" class=\"dataframe\">\n",
       "  <thead>\n",
       "    <tr style=\"text-align: right;\">\n",
       "      <th></th>\n",
       "      <th>count_visits</th>\n",
       "      <th>count_purchases</th>\n",
       "      <th>sum_price</th>\n",
       "    </tr>\n",
       "    <tr>\n",
       "      <th>group</th>\n",
       "      <th></th>\n",
       "      <th></th>\n",
       "      <th></th>\n",
       "    </tr>\n",
       "  </thead>\n",
       "  <tbody>\n",
       "    <tr>\n",
       "      <th>A</th>\n",
       "      <td>145307</td>\n",
       "      <td>17487.0</td>\n",
       "      <td>1417780000</td>\n",
       "    </tr>\n",
       "    <tr>\n",
       "      <th>B</th>\n",
       "      <td>145381</td>\n",
       "      <td>17290.0</td>\n",
       "      <td>1533010000</td>\n",
       "    </tr>\n",
       "  </tbody>\n",
       "</table>\n",
       "</div>"
      ],
      "text/plain": [
       "       count_visits  count_purchases   sum_price\n",
       "group                                           \n",
       "A            145307          17487.0  1417780000\n",
       "B            145381          17290.0  1533010000"
      ]
     },
     "execution_count": 254,
     "metadata": {},
     "output_type": "execute_result"
    }
   ],
   "source": [
    "updated_data_summary = updated_data.groupby('group').agg({\n",
    "    'user_id': 'count',\n",
    "    'purchase': 'sum',\n",
    "    'price': 'sum'\n",
    "})\n",
    "\n",
    "updated_data_summary.rename(columns={\n",
    "    'user_id': 'count_visits',\n",
    "    'purchase': 'count_purchases',\n",
    "    'price': 'sum_price'\n",
    "}, inplace=True)\n",
    "\n",
    "updated_data_summary"
   ]
  },
  {
   "cell_type": "markdown",
   "id": "b71e1390-9846-4a8e-b357-f82b847d1952",
   "metadata": {},
   "source": [
    "Приведите промежуточные выводы по построенной таблице. Сопоставимо ли количество посещений обоих вариантов посадочной странице, можно ли говорить о сбалансированности выборок?"
   ]
  },
  {
   "cell_type": "markdown",
   "id": "4ea1b65b-475e-4bff-9460-fac0acdb9620",
   "metadata": {},
   "source": [
    "### Вывод\n",
    "\n",
    "Количество посещений вариантов А и В не одинаково. Но поскольку отличие составляет менее 0.1%, то можно считать его несущественным"
   ]
  },
  {
   "cell_type": "code",
   "execution_count": 255,
   "id": "07c88877",
   "metadata": {},
   "outputs": [
    {
     "name": "stdout",
     "output_type": "stream",
     "text": [
      "Кол-во посещений варианта А на 0.051% меньше чем варианта В\n"
     ]
    }
   ],
   "source": [
    "prc = (145381 - 145307) / (145381) * 100\n",
    "\n",
    "print(f'Кол-во посещений варианта А на {prc:0.2}% меньше чем варианта В')"
   ]
  },
  {
   "cell_type": "markdown",
   "id": "afb2ee0a-31d1-45a5-be42-a2bf168b9448",
   "metadata": {
    "tags": []
   },
   "source": [
    "## **Задание 7.6.**\n",
    "\n",
    "Добавьте в сгруппированную таблицу столбцы conversion - конверсия покупки (отношение количества покупок к количеству посещений сайта в каждой группе, выраженное в процентах) и mean_check - средний чек (отношение суммы покупок к количеству покупок в каждой группе).\n",
    "\n",
    "* Чему равна конверсия в группах? Ответ приведите в процентах и округлите до сотых. Например, 75.12 %\n",
    "* Чему равен средний чек в группах? Ответ приведите в рублях и округлите до целых. Например, 120519 рублей."
   ]
  },
  {
   "cell_type": "code",
   "execution_count": 256,
   "id": "bd9c3b3e-5956-41a8-bae0-43693f6de1f2",
   "metadata": {},
   "outputs": [
    {
     "data": {
      "text/html": [
       "<div>\n",
       "<style scoped>\n",
       "    .dataframe tbody tr th:only-of-type {\n",
       "        vertical-align: middle;\n",
       "    }\n",
       "\n",
       "    .dataframe tbody tr th {\n",
       "        vertical-align: top;\n",
       "    }\n",
       "\n",
       "    .dataframe thead th {\n",
       "        text-align: right;\n",
       "    }\n",
       "</style>\n",
       "<table border=\"1\" class=\"dataframe\">\n",
       "  <thead>\n",
       "    <tr style=\"text-align: right;\">\n",
       "      <th></th>\n",
       "      <th>count_visits</th>\n",
       "      <th>count_purchases</th>\n",
       "      <th>sum_price</th>\n",
       "      <th>conversion</th>\n",
       "      <th>mean_check</th>\n",
       "    </tr>\n",
       "    <tr>\n",
       "      <th>group</th>\n",
       "      <th></th>\n",
       "      <th></th>\n",
       "      <th></th>\n",
       "      <th></th>\n",
       "      <th></th>\n",
       "    </tr>\n",
       "  </thead>\n",
       "  <tbody>\n",
       "    <tr>\n",
       "      <th>A</th>\n",
       "      <td>145307</td>\n",
       "      <td>17487.0</td>\n",
       "      <td>1417780000</td>\n",
       "      <td>12.03</td>\n",
       "      <td>81076</td>\n",
       "    </tr>\n",
       "    <tr>\n",
       "      <th>B</th>\n",
       "      <td>145381</td>\n",
       "      <td>17290.0</td>\n",
       "      <td>1533010000</td>\n",
       "      <td>11.89</td>\n",
       "      <td>88665</td>\n",
       "    </tr>\n",
       "  </tbody>\n",
       "</table>\n",
       "</div>"
      ],
      "text/plain": [
       "       count_visits  count_purchases   sum_price  conversion  mean_check\n",
       "group                                                                   \n",
       "A            145307          17487.0  1417780000       12.03       81076\n",
       "B            145381          17290.0  1533010000       11.89       88665"
      ]
     },
     "execution_count": 256,
     "metadata": {},
     "output_type": "execute_result"
    }
   ],
   "source": [
    "smry = updated_data_summary # создадим алиас\n",
    "\n",
    "smry['conversion'] = smry.apply(lambda x: round(x['count_purchases'] * 100.0 / x['count_visits'], 2), axis=1)\n",
    "smry['mean_check'] = smry.apply(lambda x: round(x['sum_price'] / x['count_purchases']), axis=1)\n",
    "\n",
    "updated_data_summary"
   ]
  },
  {
   "cell_type": "markdown",
   "id": "1eb6e140-c702-43e0-b301-9914a7f49448",
   "metadata": {},
   "source": [
    "Приведите промежуточные выводы по таблице. По какому(им) показателю(ям) вариант А эффективнее варианта B и наоборот?"
   ]
  },
  {
   "cell_type": "markdown",
   "id": "9e88c883-84f9-44ec-accd-04d5d459b261",
   "metadata": {},
   "source": [
    "### Вывод\n",
    "\n",
    "Предварительно мы можем отметить, что конверсия покупки незначительно (в пределах статической погрешности) выше у варианта А, тогда как средний чек примерно на 8% выше у варианта B."
   ]
  },
  {
   "cell_type": "markdown",
   "id": "7f9f1ae0-f12f-49b3-8b57-1c299c208c49",
   "metadata": {
    "tags": []
   },
   "source": [
    "## **Задание 7.7.**\n",
    "\n",
    "Теперь давайте сравним варианты по покупательской способности туров. Для этого постройте сводную таблицу, которая покажет зависимость количества продаж от группы и цены тура. "
   ]
  },
  {
   "cell_type": "code",
   "execution_count": 257,
   "id": "78d46a02-cc30-4783-9b18-9fc9c6a08012",
   "metadata": {},
   "outputs": [
    {
     "data": {
      "text/html": [
       "<div>\n",
       "<style scoped>\n",
       "    .dataframe tbody tr th:only-of-type {\n",
       "        vertical-align: middle;\n",
       "    }\n",
       "\n",
       "    .dataframe tbody tr th {\n",
       "        vertical-align: top;\n",
       "    }\n",
       "\n",
       "    .dataframe thead th {\n",
       "        text-align: right;\n",
       "    }\n",
       "</style>\n",
       "<table border=\"1\" class=\"dataframe\">\n",
       "  <thead>\n",
       "    <tr style=\"text-align: right;\">\n",
       "      <th>price</th>\n",
       "      <th>10000</th>\n",
       "      <th>60000</th>\n",
       "      <th>100000</th>\n",
       "      <th>150000</th>\n",
       "      <th>200000</th>\n",
       "    </tr>\n",
       "    <tr>\n",
       "      <th>group</th>\n",
       "      <th></th>\n",
       "      <th></th>\n",
       "      <th></th>\n",
       "      <th></th>\n",
       "      <th></th>\n",
       "    </tr>\n",
       "  </thead>\n",
       "  <tbody>\n",
       "    <tr>\n",
       "      <th>A</th>\n",
       "      <td>5182</td>\n",
       "      <td>5271</td>\n",
       "      <td>1832</td>\n",
       "      <td>3478</td>\n",
       "      <td>1724</td>\n",
       "    </tr>\n",
       "    <tr>\n",
       "      <th>B</th>\n",
       "      <td>5201</td>\n",
       "      <td>1730</td>\n",
       "      <td>5227</td>\n",
       "      <td>3438</td>\n",
       "      <td>1694</td>\n",
       "    </tr>\n",
       "  </tbody>\n",
       "</table>\n",
       "</div>"
      ],
      "text/plain": [
       "price  10000   60000   100000  150000  200000\n",
       "group                                        \n",
       "A        5182    5271    1832    3478    1724\n",
       "B        5201    1730    5227    3438    1694"
      ]
     },
     "execution_count": 257,
     "metadata": {},
     "output_type": "execute_result"
    }
   ],
   "source": [
    "purchase_mask = updated_data['purchase'] == 1\n",
    "\n",
    "purchases_per_tour = updated_data[purchase_mask].groupby(\n",
    "    ['group', 'price']\n",
    ").agg({\n",
    "    'user_id': 'count'\n",
    "}).reset_index()\n",
    "\n",
    "purchases_per_tour_pvt = purchases_per_tour.pivot(index='group', columns='price', values='user_id')\n",
    "\n",
    "purchases_per_tour_pvt"
   ]
  },
  {
   "cell_type": "markdown",
   "id": "977423ed-8f8d-475c-b773-621edd95338d",
   "metadata": {},
   "source": [
    "Визуализируйте полученную сводную таблицу с помощью тепловой карты с аннотацией. \n",
    "Чему равно количество проданных туров за 60000 рублей в группах?"
   ]
  },
  {
   "cell_type": "code",
   "execution_count": 305,
   "id": "f634fa8d-585c-42e3-b7d5-78e8d9eaa8c5",
   "metadata": {},
   "outputs": [
    {
     "data": {
      "image/png": "[encoded data removed]",
      "text/plain": [
       "<Figure size 504x216 with 2 Axes>"
      ]
     },
     "metadata": {},
     "output_type": "display_data"
    }
   ],
   "source": [
    "def figax(name, figsize=(7, 4), rowcol=None, axes=[0,0,1,1]):\n",
    "    fig = plt.figure(name, figsize=figsize)\n",
    "    \n",
    "    if rowcol is None:\n",
    "        ax = fig.add_axes(axes)\n",
    "    else:\n",
    "        rows, cols = rowcol\n",
    "        ax = fig.subplots(rows, cols)\n",
    "\n",
    "    return fig, ax\n",
    "\n",
    "\n",
    "fig, ax = figax('grp_tour_htmp', figsize=(7, 3))\n",
    "\n",
    "sns.heatmap(ax=ax, data=purchases_per_tour_pvt, annot=True, cmap='GnBu', fmt='d')\n",
    "\n",
    "def map_tour(price):\n",
    "    if price == 100000:\n",
    "        return 'Таиланд'\n",
    "    if price == 60000:\n",
    "        return 'Турция'\n",
    "    if price == 200000:\n",
    "        return 'Мальдивы'\n",
    "    if price == 10000:\n",
    "        return 'Санкт-Петербург'\n",
    "    if price == 150000:\n",
    "        return 'Камчатка'\n",
    "\n",
    "ax.set_title('Кол-во покупок туров в группах А и B\\n', fontsize=16)\n",
    "ax.set_xlabel('\\nТур и его стоимость', fontsize=12)\n",
    "ax.set_ylabel('')\n",
    "\n",
    "tour_prices = [int(x.get_text()) for x in ax.get_xticklabels()]\n",
    "tour_names = [f'{map_tour(x)},\\n{round(x/1000)}K руб.' for x in tour_prices]\n",
    "ax.set_xticklabels(tour_names);\n"
   ]
  },
  {
   "cell_type": "markdown",
   "id": "9caa92ca-e261-4b8f-a16c-2abc322c9ffb",
   "metadata": {},
   "source": [
    "Сделайте выводы по построенной таблице. По каким турам покупательская способность участников группы А выше, чем участников группы B и наоборот?"
   ]
  },
  {
   "cell_type": "markdown",
   "id": "6d13fd45-e3df-468f-9d32-1fc45d38b10c",
   "metadata": {},
   "source": [
    "### Вывод\n",
    "\n",
    "Судя по диаграмме, предпочтения пользователей из обеих групп оказались очень похожи, за исключением двух туров: Турция и Таиланд. Пользователи из группы А выбирали тур в Турцию примерно в три раза чаще чем тур в Таиланд, а пользователи из группы B наоборот — примерно в три раза чаще выбирали тур в Таиланд, чем тур в Турцию."
   ]
  },
  {
   "cell_type": "markdown",
   "id": "8f021fb4-d0f6-4e43-b518-1a96c07a4531",
   "metadata": {
    "tags": []
   },
   "source": [
    "## **Задание 7.8.**\n",
    "\n",
    "Настало время поговорить о стабилизации кумулятивных метрик во времени. Но прежде, чем перейти к кумулятивным метрикам, нам необходимо построить таблицу с ежедневными данными результатов проведения A/B-тестирования.\n",
    "\n",
    "Сгруппируйте данные по дате и группе тестирования. В каждой группе вычислите количество посещений страницы, количество покупок и сумму покупок. \n",
    "\n",
    "Добавьте в таблицу информацию о ежедневной конверсии (ежедневное количество покупок / ежедневное количество посещений) в группе и ежедневном среднем чеке (ежедневная сумма покупок / ежедневное количество покупок)\n",
    "* Чему равна конверсия 3 января 2021 года? Ответ приведите в процентах и округлите до сотых.\n",
    "\n",
    "* Чему равен средний чек 3 января 2021 года? Ответ приведите в рублях и округлите до целого."
   ]
  },
  {
   "cell_type": "code",
   "execution_count": 259,
   "id": "4503b528-412e-433a-bc03-da7da52fa1a3",
   "metadata": {},
   "outputs": [],
   "source": [
    "data_by_date = updated_data.groupby(['date', 'group']).agg({\n",
    "    'user_id': 'count',\n",
    "    'purchase': 'sum',\n",
    "    'price': 'sum'\n",
    "}).reset_index().rename(columns={\n",
    "    'user_id': 'count_visits',\n",
    "    'purchase': 'count_purchases',\n",
    "    'price': 'sum_price'\n",
    "})\n",
    "\n",
    "data_by_date['conversion'] = data_by_date['count_purchases'] / data_by_date['count_visits']\n",
    "data_by_date['mean_check'] = data_by_date['sum_price'] / data_by_date['count_purchases']"
   ]
  },
  {
   "cell_type": "code",
   "execution_count": 260,
   "id": "b6804e69",
   "metadata": {},
   "outputs": [
    {
     "data": {
      "text/html": [
       "<div>\n",
       "<style scoped>\n",
       "    .dataframe tbody tr th:only-of-type {\n",
       "        vertical-align: middle;\n",
       "    }\n",
       "\n",
       "    .dataframe tbody tr th {\n",
       "        vertical-align: top;\n",
       "    }\n",
       "\n",
       "    .dataframe thead th {\n",
       "        text-align: right;\n",
       "    }\n",
       "</style>\n",
       "<table border=\"1\" class=\"dataframe\">\n",
       "  <thead>\n",
       "    <tr style=\"text-align: right;\">\n",
       "      <th></th>\n",
       "      <th>group</th>\n",
       "      <th>conversion</th>\n",
       "      <th>mean_check</th>\n",
       "    </tr>\n",
       "  </thead>\n",
       "  <tbody>\n",
       "    <tr>\n",
       "      <th>2</th>\n",
       "      <td>A</td>\n",
       "      <td>11.34</td>\n",
       "      <td>82888</td>\n",
       "    </tr>\n",
       "    <tr>\n",
       "      <th>3</th>\n",
       "      <td>B</td>\n",
       "      <td>11.39</td>\n",
       "      <td>87480</td>\n",
       "    </tr>\n",
       "  </tbody>\n",
       "</table>\n",
       "</div>"
      ],
      "text/plain": [
       "  group  conversion  mean_check\n",
       "2     A       11.34       82888\n",
       "3     B       11.39       87480"
      ]
     },
     "execution_count": 260,
     "metadata": {},
     "output_type": "execute_result"
    }
   ],
   "source": [
    "date_mask = data_by_date['date'] == '2021-01-03'\n",
    "\n",
    "data_jan_3 = data_by_date[date_mask][['group', 'conversion', 'mean_check']]\n",
    "\n",
    "data_jan_3['conversion'] = data_jan_3['conversion'].apply(lambda x: round(x * 100, 2))\n",
    "\n",
    "data_jan_3['mean_check'] = data_jan_3['mean_check'].apply(lambda x: round(x))\n",
    "\n",
    "data_jan_3"
   ]
  },
  {
   "cell_type": "markdown",
   "id": "bc8e241b-1ef1-4f67-ab90-77251889b7f2",
   "metadata": {},
   "source": [
    "## **Задание 7.9.** \n",
    "\n",
    "Добавьте в таблицу с ежедневными показателями кумулятивные признаки:\n",
    "* кумулятивное количество посещений страницы\n",
    "* кумулятивное количество покупок\n",
    "* кумулятивную сумму покупок\n",
    "\n",
    "Не забудьте при расчете кумулятивной суммы сгруппировать данные по группам. \n",
    "\n",
    "Вычислите кумулятивную конверсию и кумулятивный средний чек на основе полученных кумулятивных показателей. \n",
    "\n",
    "* Какая **кумулятивная** конверсия была в группе B на 20 января? Ответ приведите в процентах, округлив до сотых.\n",
    "* Какой **кумулятивный** средний чек был в группе А на 12 января 2021 года? Ответ приведите в рублях, округлив до целых."
   ]
  },
  {
   "cell_type": "code",
   "execution_count": 263,
   "id": "afe59f9a-8d39-45c1-a14f-9f62091d81a1",
   "metadata": {},
   "outputs": [
    {
     "name": "stdout",
     "output_type": "stream",
     "text": [
      "Куммулятивная конверсия в группе B на 20 января: 11.9\n",
      "Куммулятивный средний чек в группе A на 12 января: 81492\n"
     ]
    }
   ],
   "source": [
    "data_by_date.sort_values('date', inplace=True)\n",
    "\n",
    "mask_a = data_by_date['group'] == 'A'\n",
    "mask_b = data_by_date['group'] == 'B'\n",
    "\n",
    "def calc_cum_params(data, mask):\n",
    "    data_cp = data.copy()\n",
    "\n",
    "    data_cp.loc[mask, 'cum_visits'] = data_cp[mask]['count_visits'].cumsum()\n",
    "    data_cp.loc[mask, 'cum_purchases'] = data_cp[mask]['count_purchases'].cumsum()\n",
    "    data_cp.loc[mask, 'cum_price'] = data_cp[mask]['sum_price'].cumsum()\n",
    "    data_cp.loc[mask, 'cum_conversion'] = data_cp[mask]['cum_purchases'] / data_cp[mask]['cum_visits']\n",
    "    data_cp.loc[mask, 'cum_mean_check'] = data_cp[mask]['cum_price'] / data_cp[mask]['cum_purchases']\n",
    "\n",
    "    return data_cp\n",
    "\n",
    "data_by_date = calc_cum_params(data_by_date, mask_a)\n",
    "data_by_date = calc_cum_params(data_by_date, mask_b)\n",
    "\n",
    "# Какая кумулятивная конверсия была в группе B на 20 января? \n",
    "# Ответ приведите в процентах, округлив до сотых.\n",
    "\n",
    "mask_jan_20 = data_by_date['date'] == '2021-01-20'\n",
    "data_grp_b_jan_20 = data_by_date[mask_b & mask_jan_20]\n",
    "cum_conversion_grp_b_jan_20 = data_grp_b_jan_20['cum_conversion'].values[0]\n",
    "print(f'Куммулятивная конверсия в группе B на 20 января: {round(cum_conversion_grp_b_jan_20 * 100, 2)}')\n",
    "\n",
    "# Какой кумулятивный средний чек был в группе А на 12 января 2021 года?\n",
    "# Ответ приведите в рублях, округлив до целых.\n",
    "\n",
    "mask_jan_12 = data_by_date['date'] == '2021-01-12'\n",
    "data_grp_a_jan_12 = data_by_date[mask_a & mask_jan_12]\n",
    "cum_mean_check_grp_a_jan_12 = data_grp_a_jan_12['cum_mean_check'].values[0]\n",
    "print(f'Куммулятивный средний чек в группе A на 12 января: {round(cum_mean_check_grp_a_jan_12)}')"
   ]
  },
  {
   "cell_type": "markdown",
   "id": "c252b8ba-371b-4795-8fc3-a62317e9ba39",
   "metadata": {},
   "source": [
    "Постройте кумулятивные графики конверсии и среднего чека в каждой группе по дням. Сделайте выводы. Можно ли назвать A/B-тест завершенным - стабилизировались ли значения метрик во времени? Как соотносятся кумулятивные показатели в каждой группе?"
   ]
  },
  {
   "cell_type": "code",
   "execution_count": 319,
   "id": "27e23d20-7ed6-4a26-973d-6d0320b81adb",
   "metadata": {},
   "outputs": [
    {
     "data": {
      "image/png": "[encoded data removed]",
      "text/plain": [
       "<Figure size 504x216 with 1 Axes>"
      ]
     },
     "metadata": {},
     "output_type": "display_data"
    }
   ],
   "source": [
    "sns.set_style(\"whitegrid\")\n",
    "colors = sns.color_palette('husl', 9)[1:]\n",
    "\n",
    "fig, ax = figax('grp_cum_conv', figsize=(7, 3))\n",
    "\n",
    "sns.lineplot(\n",
    "    data=data_by_date,\n",
    "    x='date',\n",
    "    y='cum_conversion',\n",
    "    hue='group', \n",
    "    ax=ax\n",
    ")\n",
    "\n",
    "ax.set_title('График куммулятивной конверсии в группах по дням', fontsize=16)\n",
    "ax.set_xlabel('')\n",
    "ax.set_ylabel('Куммулятивная конверсия')\n",
    "ax.set_yticks([x/1000 for x in range(114, 130, 2)])\n",
    "ax.set_yticklabels([f'{x * 100:.1f}%' for x in ax.get_yticks()])\n",
    "ax.xaxis.set_tick_params(rotation=45);"
   ]
  },
  {
   "cell_type": "code",
   "execution_count": 326,
   "metadata": {},
   "outputs": [
    {
     "data": {
      "image/png": "[encoded data removed]",
      "text/plain": [
       "<Figure size 504x216 with 1 Axes>"
      ]
     },
     "metadata": {},
     "output_type": "display_data"
    }
   ],
   "source": [
    "fig, ax = figax('grp_cum_chck', figsize=(7, 3))\n",
    "\n",
    "sns.lineplot(\n",
    "    data=data_by_date,\n",
    "    x='date',\n",
    "    y='cum_mean_check',\n",
    "    hue='group', \n",
    "    ax=ax\n",
    ")\n",
    "\n",
    "ax.set_title('График куммулятивного среднего чека в группах по дням', fontsize=16)\n",
    "ax.set_xlabel('')\n",
    "ax.set_ylabel('Куммулятивный средний чек')\n",
    "ax.set_yticks([x * 1000 for x in range(80, 91)])\n",
    "ax.set_yticklabels([f'{x/1000:.0f}K' for x in ax.get_yticks()])\n",
    "ax.xaxis.set_tick_params(rotation=45);"
   ]
  },
  {
   "cell_type": "markdown",
   "id": "f645f8e5-ad16-4b3b-8228-fbdeeb286833",
   "metadata": {},
   "source": [
    "ваши выводы здесь"
   ]
  },
  {
   "cell_type": "markdown",
   "id": "b33e5e3d",
   "metadata": {},
   "source": [
    "#### Вывод\n",
    "\n",
    "На обоих графиках мы наблюдаем примерно одинаковую картину — в начале графики нестабильны, но постепенно линии выравниваются, и начиная с 18 января метрики стабилизируются. Тест можно считать завершенным."
   ]
  },
  {
   "cell_type": "markdown",
   "id": "2ecaa382-56e2-47f4-b086-24b4742570a3",
   "metadata": {
    "tags": []
   },
   "source": [
    "## **Задание 7.10.**\n",
    "\n",
    "Настало время переходить к проверке статистической значимости разницы между метриками в группах. Начнем с конверсии.\n",
    "\n",
    "Какой тест вы примените для проверки гипотезы о равенстве конверсий в группах?\n",
    "\n",
    "Проведите тестирование при следующих нулевой и альтернативной гипотезе:\n",
    "* $H_0$: Конверсии в группах А и B равны; \n",
    "* $H_1$: Конверсия в группе А больше чем конверсия в группе B;\n",
    "\n",
    "Вычислите p-value вашего теста для конверсий в группах А и B. Сравните полученное значение p-value с уровнем значимости $\\alpha$=0.05. "
   ]
  },
  {
   "cell_type": "markdown",
   "id": "02e3eeef",
   "metadata": {},
   "source": [
    "Для начала попробуем визуально оценить конверсию в группах с помощью коробчатой диаграммы."
   ]
  },
  {
   "cell_type": "code",
   "execution_count": 362,
   "id": "a8c11f8f",
   "metadata": {},
   "outputs": [
    {
     "data": {
      "image/png": "[encoded data removed]",
      "text/plain": [
       "<Figure size 504x288 with 1 Axes>"
      ]
     },
     "metadata": {},
     "output_type": "display_data"
    }
   ],
   "source": [
    "fig, ax = figax('conv-ab-box')\n",
    "\n",
    "sns.boxplot(ax=ax, data=data_by_date, x='conversion', y='group', palette=colors)\n",
    "\n",
    "ax.set_title('Распределение конверсии в группах A и B', fontsize=18)\n",
    "ax.set_xlabel('')\n",
    "ax.set_xticks([x / 1000 for x in range(110, 130, 2)])\n",
    "ax.set_xticklabels([f'{round(x * 100, 1)}%' for x in ax.get_xticks()])\n",
    "ax.set_ylabel('');"
   ]
  },
  {
   "cell_type": "markdown",
   "id": "d21c70ee",
   "metadata": {},
   "source": [
    "На диаграмме видно, что конверсия в группе A немного выше.\n",
    "\n",
    "Чтобы судить о значимости этого отличия нам нужно применить статистический тест. Проведем z-тест для пропорций."
   ]
  },
  {
   "cell_type": "code",
   "execution_count": 366,
   "id": "9dd1f6fd-2fa0-4a2f-8181-dbed4c302bce",
   "metadata": {},
   "outputs": [
    {
     "name": "stdout",
     "output_type": "stream",
     "text": [
      "P-value = 0.12\n",
      "P-value > alpha, следовательно мы не можем отвергнуть нулевую гипотезу.\n"
     ]
    }
   ],
   "source": [
    "proportions_data = data_by_date.groupby('group').agg({\n",
    "    'count_visits': 'sum',\n",
    "    'count_purchases': 'sum'\n",
    "})\n",
    "\n",
    "H0 = 'Конверсии в группах A и B равны'\n",
    "Ha = 'Конверсия в группе A больше чем конверсия в группе B'\n",
    "alpha = 0.05\n",
    "\n",
    "_, p = proportions_ztest(\n",
    "    count=proportions_data['count_purchases'],\n",
    "    nobs=proportions_data['count_visits'],\n",
    "    alternative='larger'\n",
    ")\n",
    "\n",
    "print(f'P-value = {round(p, 2)}')\n",
    "\n",
    "if p > alpha:\n",
    "    print('P-value > alpha, следовательно мы не можем отвергнуть нулевую гипотезу.')\n",
    "else:\n",
    "    print('P-value < alpha, следовательно мы отвергаем нулевую гипотезу.')"
   ]
  },
  {
   "cell_type": "markdown",
   "id": "da794b48-80e3-47af-aceb-084a1862c86b",
   "metadata": {},
   "source": [
    "Приведите свои выводы по результатам проведенного статистического теста. Есть ли статистическая разница между конверсиями в группах А и B?"
   ]
  },
  {
   "cell_type": "markdown",
   "id": "75dddb06-389d-4d65-92c7-425efa28e51a",
   "metadata": {},
   "source": [
    "#### Вывод\n",
    "\n",
    "Не смотря на то, что конверсия в группе A номинально выше, чем в группе B, мы можем с 95% вероятностью утверждать, что статистической значимости эта разница не имеет. "
   ]
  },
  {
   "cell_type": "markdown",
   "id": "32c5a1af-8cb2-4f3c-a126-410b70fb3ff3",
   "metadata": {
    "tags": []
   },
   "source": [
    "## **Задание 7.11.**\n",
    "Убедитесь в своих рассуждениях, построив 95%-ый доверительный интервал для конверсий и разницы между ними. Используйте $z_{крит}$ в своих расчетах\n",
    "\n",
    "Укажите нижнюю и верхнюю границы доверительных интервалов. Границы приведите в процентах и округлите до 2 знака после запятой. Например: нижняя граница 89.24%, верхняя граница 91.25%."
   ]
  },
  {
   "cell_type": "code",
   "execution_count": 370,
   "id": "c31bef32",
   "metadata": {},
   "outputs": [
    {
     "data": {
      "text/html": [
       "<div>\n",
       "<style scoped>\n",
       "    .dataframe tbody tr th:only-of-type {\n",
       "        vertical-align: middle;\n",
       "    }\n",
       "\n",
       "    .dataframe tbody tr th {\n",
       "        vertical-align: top;\n",
       "    }\n",
       "\n",
       "    .dataframe thead th {\n",
       "        text-align: right;\n",
       "    }\n",
       "</style>\n",
       "<table border=\"1\" class=\"dataframe\">\n",
       "  <thead>\n",
       "    <tr style=\"text-align: right;\">\n",
       "      <th></th>\n",
       "      <th>user_id</th>\n",
       "      <th>date</th>\n",
       "      <th>group</th>\n",
       "      <th>purchase</th>\n",
       "      <th>price</th>\n",
       "    </tr>\n",
       "  </thead>\n",
       "  <tbody>\n",
       "    <tr>\n",
       "      <th>0</th>\n",
       "      <td>851104</td>\n",
       "      <td>2021-01-21</td>\n",
       "      <td>A</td>\n",
       "      <td>0</td>\n",
       "      <td>0</td>\n",
       "    </tr>\n",
       "    <tr>\n",
       "      <th>1</th>\n",
       "      <td>804228</td>\n",
       "      <td>2021-01-12</td>\n",
       "      <td>A</td>\n",
       "      <td>0</td>\n",
       "      <td>0</td>\n",
       "    </tr>\n",
       "    <tr>\n",
       "      <th>2</th>\n",
       "      <td>661590</td>\n",
       "      <td>2021-01-11</td>\n",
       "      <td>B</td>\n",
       "      <td>0</td>\n",
       "      <td>0</td>\n",
       "    </tr>\n",
       "    <tr>\n",
       "      <th>3</th>\n",
       "      <td>853541</td>\n",
       "      <td>2021-01-08</td>\n",
       "      <td>B</td>\n",
       "      <td>0</td>\n",
       "      <td>0</td>\n",
       "    </tr>\n",
       "    <tr>\n",
       "      <th>4</th>\n",
       "      <td>864975</td>\n",
       "      <td>2021-01-21</td>\n",
       "      <td>A</td>\n",
       "      <td>1</td>\n",
       "      <td>150000</td>\n",
       "    </tr>\n",
       "  </tbody>\n",
       "</table>\n",
       "</div>"
      ],
      "text/plain": [
       "   user_id       date group  purchase   price\n",
       "0   851104 2021-01-21     A         0       0\n",
       "1   804228 2021-01-12     A         0       0\n",
       "2   661590 2021-01-11     B         0       0\n",
       "3   853541 2021-01-08     B         0       0\n",
       "4   864975 2021-01-21     A         1  150000"
      ]
     },
     "execution_count": 370,
     "metadata": {},
     "output_type": "execute_result"
    }
   ],
   "source": [
    "updated_data.head()\n"
   ]
  },
  {
   "cell_type": "code",
   "execution_count": 376,
   "id": "e9decb7d-ff5e-40a6-8b71-63627c4ef64a",
   "metadata": {},
   "outputs": [
    {
     "name": "stdout",
     "output_type": "stream",
     "text": [
      "95% доверительный интервал конверсии для группы A\n",
      "от 11.87% до 12.2%\n",
      "\n",
      "95% доверительный интервал конверсии для группы B\n",
      "от 11.73% до 12.06%\n",
      "\n"
     ]
    }
   ],
   "source": [
    "def conf_interval(gamma, xp, n):\n",
    "    alpha = 1 - gamma # уровень значимости\n",
    "    z_crit = -norm.ppf(alpha/2) # z критическое\n",
    "    eps = z_crit * (xp * (1 - xp) / n) ** 0.5 #погрешность\n",
    "    lower_bound = xp - eps # левая (нижняя) граница\n",
    "    upper_bound = xp + eps # правая (верхняя) граница\n",
    "    \n",
    "    return (round(lower_bound * 100, 2), round(upper_bound * 100, 2))\n",
    "\n",
    "def print_conf_interval(group):\n",
    "    mask = updated_data['group'] == group\n",
    "    n = updated_data[mask]['purchase'].count()\n",
    "    xp = updated_data[mask]['purchase'].sum() / n\n",
    "\n",
    "    lb, ub = conf_interval(0.95, xp, n)\n",
    "    print(f'95% доверительный интервал конверсии для группы {group}')\n",
    "    print(f'от {lb}% до {ub}%\\n')\n",
    "\n",
    "print_conf_interval('A')\n",
    "print_conf_interval('B')"
   ]
  },
  {
   "cell_type": "code",
   "execution_count": 388,
   "id": "af2431c8",
   "metadata": {},
   "outputs": [
    {
     "name": "stdout",
     "output_type": "stream",
     "text": [
      "Доверительный интервал разницы конверсий групп A и B лежит в пределах\n",
      "от -0.38% до 0.09%\n"
     ]
    }
   ],
   "source": [
    "def diff_proportions_conf_interval(n, xp, gamma):\n",
    "    alpha = 1 - gamma # уровень значимости\n",
    "    diff = xp[1] - xp[0] # выборочная разница конверсий групп B и A\n",
    "    z_crit = -norm.ppf(alpha/2) # z критическое\n",
    "    eps = z_crit * (xp[0] * (1 - xp[0])/n[0] + xp[1] * (1 - xp[1])/n[1]) ** 0.5 # погрешность\n",
    "    lower_bound = diff - eps # левая (нижняя) граница\n",
    "    upper_bound = diff + eps # правая (верхняя) граница\n",
    "    # возвращаем кортеж из округлённых границ интервала\n",
    "    return round(lower_bound *100, 2), round(upper_bound * 100, 2)\n",
    "\n",
    "prop_data = updated_data.groupby('group').agg({\n",
    "    'user_id': 'count',\n",
    "    'purchase': 'sum',\n",
    "}).rename(columns={'user_id': 'n'})\n",
    "\n",
    "prop_data['conversion'] = prop_data['purchase'] / prop_data['n']\n",
    "\n",
    "lb, ub = diff_proportions_conf_interval(prop_data['n'], prop_data['conversion'], 0.95)\n",
    "\n",
    "print('Доверительный интервал разницы конверсий групп A и B лежит в пределах')\n",
    "print(f'от {lb}% до {ub}%')"
   ]
  },
  {
   "cell_type": "markdown",
   "id": "9332372d-66b2-45e9-a74c-f5d8b1d44afb",
   "metadata": {},
   "source": [
    "Проинтерпретируйте построенные доверительные интервалы для конверсий в группах. Есть ли перекрытие между доверительными интервалами для групп? Есть ли статистическая разница между конверсиями в группах А и B?"
   ]
  },
  {
   "cell_type": "markdown",
   "id": "9113fd3e",
   "metadata": {},
   "source": [
    "#### Вывод\n",
    "\n",
    "Доверительные интервалы конверсии групп A и B перекрываются на большем своем протяжении (с 11.27% до 12.06%). Это значит, что истинное значение конверсии обеих групп может находиться в этом интервале и даже совпасть.\n",
    "\n",
    "Доверительный интервал разницы конверсий проходит через ноль. То есть разница может быть как положительной, так и отрицательной. Следовательно мы не можем утверждать, что одна из конверсий больше другой. Таким образом с высокой долей вероятности мы можем утверждать, что метрики конверсии в группах A и B одинаковы."
   ]
  },
  {
   "cell_type": "markdown",
   "id": "73c54883-b919-4889-bbf2-e1bdeb0b7055",
   "metadata": {},
   "source": [
    "## **Задание 7.12.**\n",
    "\n",
    "Ранее мы построили таблицу с ежедневными показателями. Теперь она нам снова понадобится, так как нас интересует ежедневный средний чек.\n",
    "\n",
    "Проверьте гипотезу о нормальности распределения ежедневного среднего чека в каждой из групп тестирования. \n",
    "\n",
    "* Какой тест вы примените  для проверки гипотезы о нормальности распределения ежедневного среднего чека?\n",
    "* Как будут звучать нулевая и альтернативная гипотезы?\n",
    "* Каковы результаты статистического теста с уровнем значимости $\\alpha$ =0.05?"
   ]
  },
  {
   "cell_type": "markdown",
   "id": "6002a884",
   "metadata": {},
   "source": [
    "Прежде всего построим гистограммы ежедневного среднего чека, чтобы оценить распределение визуально."
   ]
  },
  {
   "cell_type": "code",
   "execution_count": 399,
   "id": "898041ae-de7e-4b74-975e-111d494fbb82",
   "metadata": {},
   "outputs": [
    {
     "name": "stdout",
     "output_type": "stream",
     "text": [
      "Для построения гистограмм использовано значений 23\n"
     ]
    },
    {
     "data": {
      "image/png": "[encoded data removed]",
      "text/plain": [
       "<Figure size 432x288 with 2 Axes>"
      ]
     },
     "metadata": {},
     "output_type": "display_data"
    }
   ],
   "source": [
    "data_by_date_pvt = data_by_date.pivot(index='date', columns='group', values='mean_check')\n",
    "data_by_date_pvt.hist();\n",
    "\n",
    "print(f'Для построения гистограмм использовано значений {data_by_date_pvt.shape[0]}')"
   ]
  },
  {
   "cell_type": "markdown",
   "id": "20534679",
   "metadata": {},
   "source": [
    "Распределение похоже на нормальное. Для его построения было использовано всего 23 значения. Если бы их было в 5-10 раз больше, то гистограммы были больше похожи на колокол.\n",
    "\n",
    "Теперь применим тест Шапиро-Уилка. Этот тест хорошо работает для выборок небольшого размера."
   ]
  },
  {
   "cell_type": "code",
   "execution_count": 401,
   "id": "dfa9ed9a",
   "metadata": {},
   "outputs": [
    {
     "name": "stdout",
     "output_type": "stream",
     "text": [
      "Проверка нормального распределения для группы \"A\"\n",
      "P-value = 0.253\n",
      "Данные распределены нормально\n",
      "\n",
      "Проверка нормального распределения для группы \"B\"\n",
      "P-value = 0.094\n",
      "Данные распределены нормально\n"
     ]
    }
   ],
   "source": [
    "H0 = 'Данные распределены нормально'\n",
    "Ha = 'Данные не распределены нормально'\n",
    "\n",
    "alpha = 0.05\n",
    "\n",
    "def test_normal_distribution(group):\n",
    "    print(f'Проверка нормального распределения для группы \"{group}\"')\n",
    "\n",
    "    data = data_by_date[data_by_date['group'] ==  group]['mean_check']\n",
    "\n",
    "    _, p = shapiro(data)\n",
    "\n",
    "    print(f'P-value = {p:.3f}')\n",
    "\n",
    "    if p > alpha:\n",
    "        print(H0)\n",
    "    else:\n",
    "        print(Ha)\n",
    "\n",
    "\n",
    "test_normal_distribution('A')\n",
    "print('')\n",
    "test_normal_distribution('B')"
   ]
  },
  {
   "cell_type": "markdown",
   "id": "cbddecf9-4d15-4ff1-84e9-46c4d98fc1e0",
   "metadata": {
    "tags": []
   },
   "source": [
    "## **Задание 7.13.**\n",
    "Настало время сравнить варианты дизайна страницы по метрике среднего чека. \n",
    "\n",
    "Какой тест вы примените для проверки гипотезы о равенстве средних чеков по дням в группах?\n",
    "\n",
    "Проведите тестирование при следующих нулевой и альтернативной гипотезе:\n",
    "* $H_0$: Ежедневные средние чеки в группах А и B равны; \n",
    "* $H_1$: Ежедневный средний чек в группе А меньше чем в группе B;\n",
    "\n",
    "Вычислите p-value вашего теста для ежедневного среднего чека в группах А и B. Сравните полученное значение p-value с уровнем значимости $\\alpha$ =0.05. "
   ]
  },
  {
   "cell_type": "code",
   "execution_count": null,
   "id": "05d43f23-2c2d-4795-bb96-1ffbfe81c391",
   "metadata": {},
   "outputs": [],
   "source": [
    "# ваш код здесь"
   ]
  },
  {
   "cell_type": "markdown",
   "id": "8534ab25-68b8-48f7-b2c1-ef1b72d8a767",
   "metadata": {},
   "source": [
    " Приведите свои выводы по проведенному статистическому тесту. Есть ли статистическая разница между ежедневными средними чеками в группах А и B?"
   ]
  },
  {
   "cell_type": "code",
   "execution_count": null,
   "id": "d8258dfd-14e7-4af4-bc6c-19ea8932eab5",
   "metadata": {},
   "outputs": [],
   "source": [
    "ваши выводы здесь"
   ]
  },
  {
   "cell_type": "markdown",
   "id": "5e46c9a6-a943-48b4-ad72-935337469613",
   "metadata": {
    "tags": []
   },
   "source": [
    "## **Задание 7.14.**\n",
    "\n",
    "Постройте 95%-ый доверительный интервал для среднего чека в каждой группе. Так как выборка средних чеков небольшая, используйте  $t_{крит}$ в своих расчетах.\n",
    "\n",
    "Укажите нижнюю границу доверительного интервала для истинного среднего чека каждой из групп. Ответ приведите в процентах и округлите до целого."
   ]
  },
  {
   "cell_type": "code",
   "execution_count": null,
   "id": "480430db-ffae-4aad-8e22-f5c70d4800b8",
   "metadata": {},
   "outputs": [],
   "source": [
    "# ваш код здесь"
   ]
  },
  {
   "cell_type": "markdown",
   "id": "74a78db8-48f7-41d2-94cb-faefb30b8f76",
   "metadata": {},
   "source": [
    "Проинтерпретируйте построенные доверительные интервалы для ежедневных средних чеков в группах. Есть ли между ними пересечения?"
   ]
  },
  {
   "cell_type": "code",
   "execution_count": null,
   "id": "1ab3aad1-f4fd-485f-85ef-274a27fe7563",
   "metadata": {},
   "outputs": [],
   "source": [
    "ваши выводы здесь"
   ]
  },
  {
   "cell_type": "markdown",
   "id": "c078852f-892f-42ed-8d78-73edf8eb1f5e",
   "metadata": {
    "tags": []
   },
   "source": [
    "## **Сделайте общий вывод по результатам A/B-теста**\n",
    "\n",
    "Какой варианта дизайна посадочной страницы является более эффективным в комплексе по метрикам конверсии и среднего чека и почему? "
   ]
  }
 ],
 "metadata": {
  "kernelspec": {
   "display_name": "Python 3 (ipykernel)",
   "language": "python",
   "name": "python3"
  },
  "language_info": {
   "codemirror_mode": {
    "name": "ipython",
    "version": 3
   },
   "file_extension": ".py",
   "mimetype": "text/x-python",
   "name": "python",
   "nbconvert_exporter": "python",
   "pygments_lexer": "ipython3",
   "version": "3.9.7"
  }
 },
 "nbformat": 4,
 "nbformat_minor": 5
}
