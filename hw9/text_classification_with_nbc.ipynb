{
  "cells": [
    {
      "cell_type": "code",
      "execution_count": 1,
      "id": "2873ef0b",
      "metadata": {},
      "outputs": [],
      "source": [
        "import pandas as pd\n",
        "import numpy as np\n",
        "import seaborn as sns\n",
        "import matplotlib.pyplot as plt\n",
        "from sklearn.model_selection import train_test_split\n",
        "from sklearn import metrics\n",
        "from sklearn.naive_bayes import MultinomialNB\n",
        "from sklearn.naive_bayes import ComplementNB\n",
        "from sklearn import model_selection"
      ]
    },
    {
      "attachments": {},
      "cell_type": "markdown",
      "id": "00009cca",
      "metadata": {
        "id": "00009cca"
      },
      "source": [
        "# Классификация текстов с использованием Наивного Байесовского Классификатора"
      ]
    },
    {
      "attachments": {},
      "cell_type": "markdown",
      "id": "a52414b8",
      "metadata": {
        "id": "a52414b8"
      },
      "source": [
        "## Задание 1 (1 балл)"
      ]
    },
    {
      "attachments": {},
      "cell_type": "markdown",
      "id": "f5f27b43",
      "metadata": {
        "id": "f5f27b43"
      },
      "source": [
        "Откройте данные. Узнайте, сколько в них спам- и не спам-писем. Визуализируйте полученные соотношение подходящим образом."
      ]
    },
    {
      "cell_type": "code",
      "execution_count": 2,
      "id": "ac369274",
      "metadata": {
        "id": "ac369274"
      },
      "outputs": [
        {
          "data": {
            "text/html": [
              "<div>\n",
              "<style scoped>\n",
              "    .dataframe tbody tr th:only-of-type {\n",
              "        vertical-align: middle;\n",
              "    }\n",
              "\n",
              "    .dataframe tbody tr th {\n",
              "        vertical-align: top;\n",
              "    }\n",
              "\n",
              "    .dataframe thead th {\n",
              "        text-align: right;\n",
              "    }\n",
              "</style>\n",
              "<table border=\"1\" class=\"dataframe\">\n",
              "  <thead>\n",
              "    <tr style=\"text-align: right;\">\n",
              "      <th></th>\n",
              "      <th>email</th>\n",
              "      <th>label</th>\n",
              "    </tr>\n",
              "  </thead>\n",
              "  <tbody>\n",
              "    <tr>\n",
              "      <th>0</th>\n",
              "      <td>date wed NUMBER aug NUMBER NUMBER NUMBER NUMB...</td>\n",
              "      <td>0</td>\n",
              "    </tr>\n",
              "    <tr>\n",
              "      <th>1</th>\n",
              "      <td>martin a posted tassos papadopoulos the greek ...</td>\n",
              "      <td>0</td>\n",
              "    </tr>\n",
              "    <tr>\n",
              "      <th>2</th>\n",
              "      <td>man threatens explosion in moscow thursday aug...</td>\n",
              "      <td>0</td>\n",
              "    </tr>\n",
              "    <tr>\n",
              "      <th>3</th>\n",
              "      <td>klez the virus that won t die already the most...</td>\n",
              "      <td>0</td>\n",
              "    </tr>\n",
              "    <tr>\n",
              "      <th>4</th>\n",
              "      <td>in adding cream to spaghetti carbonara which ...</td>\n",
              "      <td>0</td>\n",
              "    </tr>\n",
              "  </tbody>\n",
              "</table>\n",
              "</div>"
            ],
            "text/plain": [
              "                                               email  label\n",
              "0   date wed NUMBER aug NUMBER NUMBER NUMBER NUMB...      0\n",
              "1  martin a posted tassos papadopoulos the greek ...      0\n",
              "2  man threatens explosion in moscow thursday aug...      0\n",
              "3  klez the virus that won t die already the most...      0\n",
              "4   in adding cream to spaghetti carbonara which ...      0"
            ]
          },
          "execution_count": 2,
          "metadata": {},
          "output_type": "execute_result"
        }
      ],
      "source": [
        "# откройте данные: ваш код здесь\n",
        "\n",
        "email_data = pd.read_csv('./data/spam_or_not_spam.zip')\n",
        "\n",
        "email_data.head()"
      ]
    },
    {
      "cell_type": "code",
      "execution_count": 3,
      "id": "f4231781",
      "metadata": {
        "id": "f4231781"
      },
      "outputs": [
        {
          "name": "stdout",
          "output_type": "stream",
          "text": [
            "В датасете 500 спам сообщений\n",
            "В датасете 2500 нормальных сообщений\n"
          ]
        }
      ],
      "source": [
        "# рассчитайте частоты для классов : ваш код здесь\n",
        "email_count = email_data.shape[0]\n",
        "\n",
        "m_spam = email_data['label'] == 1\n",
        "spam_email_count = m_spam.sum()\n",
        "ham_email_count = email_count - spam_email_count\n",
        "\n",
        "print(f'В датасете {spam_email_count} спам сообщений')\n",
        "print(f'В датасете {ham_email_count} нормальных сообщений')"
      ]
    },
    {
      "cell_type": "code",
      "execution_count": 4,
      "id": "9b871636",
      "metadata": {
        "id": "9b871636"
      },
      "outputs": [
        {
          "data": {
            "text/plain": [
              "Text(0.5, 1.0, 'Соотньшение спама и не-спама в нашей выборке')"
            ]
          },
          "execution_count": 4,
          "metadata": {},
          "output_type": "execute_result"
        },
        {
          "data": {
            "image/png": "[encoded data removed]",
            "text/plain": [
              "<Figure size 700x400 with 1 Axes>"
            ]
          },
          "metadata": {},
          "output_type": "display_data"
        }
      ],
      "source": [
        "# визуализируйте результат: ваш код здесь\n",
        "\n",
        "def figax(name, figsize=(7, 4), rowcol=None, axes=[0,0,1,1]):\n",
        "    fig = plt.figure(name, figsize=figsize)\n",
        "\n",
        "    if rowcol is None:\n",
        "        ax = fig.add_axes(axes)\n",
        "    else:\n",
        "        rows, cols = rowcol\n",
        "        ax = fig.subplots(rows, cols)\n",
        "\n",
        "    return fig, ax\n",
        "\n",
        "_fig, ax = figax('spam_ham_pie')\n",
        "\n",
        "colors = sns.color_palette('pastel')\n",
        "\n",
        "ax.pie(\n",
        "    [spam_email_count, ham_email_count],\n",
        "    labels=['SPAM', 'HAM'],\n",
        "    colors=colors,\n",
        "    explode=[0, 0.1],\n",
        "    startangle=-30,\n",
        "    autopct='%1.1f%%',\n",
        ");\n",
        "ax.set_title('Соотньшение спама и не-спама в нашей выборке')\n"
      ]
    },
    {
      "attachments": {},
      "cell_type": "markdown",
      "id": "b161614b",
      "metadata": {
        "id": "b161614b"
      },
      "source": [
        "## Задание 2 (2 балла)"
      ]
    },
    {
      "attachments": {},
      "cell_type": "markdown",
      "id": "dd29763b",
      "metadata": {
        "id": "dd29763b"
      },
      "source": [
        "Вам необходимо предобработать ваши данные и перевести их в векторный вид. Подгрузим необходимый модуль:"
      ]
    },
    {
      "cell_type": "code",
      "execution_count": 5,
      "id": "382eac9c",
      "metadata": {
        "id": "382eac9c"
      },
      "outputs": [],
      "source": [
        "from sklearn.feature_extraction.text import CountVectorizer"
      ]
    },
    {
      "attachments": {},
      "cell_type": "markdown",
      "id": "89546b95",
      "metadata": {
        "id": "89546b95"
      },
      "source": [
        "Замените в данных все пустые строки и строки, состоящие из пробелов, на пропуски (NaN). После этого удалите из данных все строки, в которых наблюдаются пропущенные значения."
      ]
    },
    {
      "cell_type": "code",
      "execution_count": 6,
      "id": "45180f82",
      "metadata": {
        "id": "45180f82"
      },
      "outputs": [
        {
          "name": "stdout",
          "output_type": "stream",
          "text": [
            "После предобработки осталось 2997 строк\n"
          ]
        }
      ],
      "source": [
        "def cleanup_email_data(data):\n",
        "    data.loc[:, 'email'] = data['email'].str.replace('\\s+', ' ', regex=True).str.strip()\n",
        "    m_empty_email = data['email'] == ''\n",
        "    data.loc[m_empty_email, 'email'] = np.NAN\n",
        "    data.dropna(inplace=True)\n",
        "\n",
        "cleanup_email_data(email_data)\n",
        "\n",
        "print(f'После предобработки осталось {email_data.shape[0]} строк')"
      ]
    },
    {
      "attachments": {},
      "cell_type": "markdown",
      "id": "2ca2fe88",
      "metadata": {
        "id": "2ca2fe88"
      },
      "source": [
        "Переводим данные в векторный вид:"
      ]
    },
    {
      "cell_type": "code",
      "execution_count": 7,
      "id": "29e9a37b",
      "metadata": {
        "id": "29e9a37b"
      },
      "outputs": [],
      "source": [
        "vectorizer = CountVectorizer()\n",
        "X = vectorizer.fit_transform(email_data['email'])"
      ]
    },
    {
      "attachments": {},
      "cell_type": "markdown",
      "id": "88c8b726",
      "metadata": {
        "id": "88c8b726"
      },
      "source": [
        "Определите, сколько теперь признаков в нашем наборе данных:"
      ]
    },
    {
      "cell_type": "code",
      "execution_count": 8,
      "id": "f19c2a02",
      "metadata": {
        "id": "f19c2a02"
      },
      "outputs": [
        {
          "name": "stdout",
          "output_type": "stream",
          "text": [
            "Кол-во признаков в наборе данных после предобработки: 34116\n"
          ]
        }
      ],
      "source": [
        "print(f'Кол-во признаков в наборе данных после предобработки: {X.shape[1]}')"
      ]
    },
    {
      "attachments": {},
      "cell_type": "markdown",
      "id": "1803f282",
      "metadata": {
        "id": "1803f282"
      },
      "source": [
        "## Задание 3 (2 балла)"
      ]
    },
    {
      "attachments": {},
      "cell_type": "markdown",
      "id": "39f400b7",
      "metadata": {
        "id": "39f400b7"
      },
      "source": [
        "Определите целевую переменную и признаки:"
      ]
    },
    {
      "cell_type": "code",
      "execution_count": 9,
      "id": "31f1acb6",
      "metadata": {
        "id": "31f1acb6"
      },
      "outputs": [],
      "source": [
        "y = email_data['label']"
      ]
    },
    {
      "attachments": {},
      "cell_type": "markdown",
      "id": "b20f273e",
      "metadata": {
        "id": "b20f273e"
      },
      "source": [
        "Разделите выборку на обучающую и тестовую, используя стратифицированное разбиение (параметр `stratify` установите в значение вектора ответов y) размер тестовой выборки (`test_size`) возьмите как 0.25, параметр `random_state` определите со значением 42:"
      ]
    },
    {
      "cell_type": "code",
      "execution_count": 10,
      "id": "96538fb6",
      "metadata": {
        "id": "96538fb6"
      },
      "outputs": [
        {
          "name": "stdout",
          "output_type": "stream",
          "text": [
            "(2247, 34116)\n",
            "(750, 34116)\n"
          ]
        }
      ],
      "source": [
        "X_train, X_test, y_train, y_test = train_test_split(X, y, test_size=0.25, random_state=42, stratify=y)\n",
        "print(X_train.shape)\n",
        "print(X_test.shape)"
      ]
    },
    {
      "attachments": {},
      "cell_type": "markdown",
      "id": "139dac3d",
      "metadata": {
        "id": "139dac3d"
      },
      "source": [
        "Рассчитайте среднее значение целевой переменной по тестовой выборке:"
      ]
    },
    {
      "cell_type": "code",
      "execution_count": 11,
      "id": "e9baf72d",
      "metadata": {
        "id": "e9baf72d"
      },
      "outputs": [
        {
          "name": "stdout",
          "output_type": "stream",
          "text": [
            "Среднее значение целевой переменной по тестовой выборке: 0.165\n"
          ]
        }
      ],
      "source": [
        "print(f'Среднее значение целевой переменной по тестовой выборке: {round(y_test.mean(), 3)}')"
      ]
    },
    {
      "attachments": {},
      "cell_type": "markdown",
      "id": "710e0e94",
      "metadata": {
        "id": "710e0e94"
      },
      "source": [
        "## Задание 4 (3 балла)"
      ]
    },
    {
      "attachments": {},
      "cell_type": "markdown",
      "id": "26cf6885",
      "metadata": {
        "id": "26cf6885"
      },
      "source": [
        "Определите и обучите подходящий алгоритм с параметром alpha = 0.01"
      ]
    },
    {
      "cell_type": "code",
      "execution_count": 12,
      "id": "4865dd78",
      "metadata": {
        "id": "4865dd78"
      },
      "outputs": [],
      "source": [
        "alpha = 0.01\n",
        "\n",
        "mnb = MultinomialNB(alpha=alpha);\n",
        "mnb.fit(X_train, y_train);\n",
        "\n",
        "cnb = ComplementNB(alpha=alpha);\n",
        "cnb.fit(X_train, y_train);\n"
      ]
    },
    {
      "attachments": {},
      "cell_type": "markdown",
      "id": "d803fbe3",
      "metadata": {
        "id": "d803fbe3"
      },
      "source": [
        "Оцените результат с точки зрения всех известных вам метрик (не менее трёх):"
      ]
    },
    {
      "cell_type": "code",
      "execution_count": 13,
      "id": "b0bbc4d2",
      "metadata": {
        "id": "b0bbc4d2"
      },
      "outputs": [
        {
          "name": "stdout",
          "output_type": "stream",
          "text": [
            "Метрики модели MultinomialNB\n",
            "- Accuracy: 0.9866666666666667\n",
            "- Precision: 1.0\n",
            "- Recall: 0.9193548387096774\n",
            "- F₁ score: 0.9579831932773109\n",
            "\n",
            "Метрики модели ComplementNB\n",
            "- Accuracy: 0.988\n",
            "- Precision: 1.0\n",
            "- Recall: 0.9274193548387096\n",
            "- F₁ score: 0.9623430962343097\n"
          ]
        }
      ],
      "source": [
        "def show_metrics_for_model(model, model_name):\n",
        "    y_test_pred = model.predict(X_test)\n",
        "\n",
        "    print(f'Метрики модели {model_name}')\n",
        "    print(f'- Accuracy: {metrics.accuracy_score(y_test, y_test_pred)}')\n",
        "    print(f'- Precision: {metrics.precision_score(y_test, y_test_pred)}')\n",
        "    print(f'- Recall: {metrics.recall_score(y_test, y_test_pred)}')\n",
        "    print(f'- F₁ score: {metrics.f1_score(y_test, y_test_pred)}')\n",
        "\n",
        "\n",
        "show_metrics_for_model(mnb, 'MultinomialNB')\n",
        "print('')\n",
        "show_metrics_for_model(cnb, 'ComplementNB')\n"
      ]
    },
    {
      "attachments": {},
      "cell_type": "markdown",
      "id": "c85976d1",
      "metadata": {
        "id": "c85976d1"
      },
      "source": [
        "Нарисуйте ROC-кривую:"
      ]
    },
    {
      "cell_type": "code",
      "execution_count": 14,
      "id": "3b984d48",
      "metadata": {},
      "outputs": [
        {
          "data": {
            "image/png": "[encoded data removed]",
            "text/plain": [
              "<Figure size 640x480 with 1 Axes>"
            ]
          },
          "metadata": {},
          "output_type": "display_data"
        }
      ],
      "source": [
        "def draw_roc_for_model(model, model_name):\n",
        "    # Predict probabilities for the test set\n",
        "    y_scores = model.predict_proba(X_test)[:, 1]\n",
        "\n",
        "    # Compute the false positive rate, true positive rate, and thresholds\n",
        "    fpr, tpr, thresholds = metrics.roc_curve(y_test, y_scores)\n",
        "\n",
        "    # Compute the area under the ROC curve (AUC)\n",
        "    roc_auc = metrics.auc(fpr, tpr)\n",
        "\n",
        "    # Plot the ROC curve\n",
        "    plt.figure()\n",
        "    plt.plot(fpr, tpr, color='darkorange', lw=2, label='ROC curve (AUC = %0.2f)' % roc_auc)\n",
        "    plt.plot([0, 1], [0, 1], color='navy', lw=2, linestyle='--')\n",
        "    plt.xlim([0.0, 1.0])\n",
        "    plt.ylim([0.0, 1.05])\n",
        "    plt.xlabel('False Positive Rate')\n",
        "    plt.ylabel('True Positive Rate')\n",
        "    plt.title(f'ROC для {model_name}')\n",
        "    plt.legend(loc=\"lower right\")\n",
        "    plt.show()\n",
        "\n",
        "draw_roc_for_model(mnb, 'MultinomialNB')"
      ]
    },
    {
      "cell_type": "code",
      "execution_count": 15,
      "id": "82c00b48",
      "metadata": {},
      "outputs": [
        {
          "data": {
            "image/png": "[encoded data removed]",
            "text/plain": [
              "<Figure size 640x480 with 1 Axes>"
            ]
          },
          "metadata": {},
          "output_type": "display_data"
        }
      ],
      "source": [
        "draw_roc_for_model(cnb, 'ComplementNB')"
      ]
    },
    {
      "attachments": {},
      "cell_type": "markdown",
      "id": "cf0bb49b",
      "metadata": {
        "id": "cf0bb49b"
      },
      "source": [
        "## Задание 5 (3 балла)"
      ]
    },
    {
      "attachments": {},
      "cell_type": "markdown",
      "id": "30b7a0ae",
      "metadata": {
        "id": "30b7a0ae"
      },
      "source": [
        "Переберите несколько значений alpha с помощью кросс-валидации. Оцените, зависит ли от этого параметра качество классификации."
      ]
    },
    {
      "cell_type": "code",
      "execution_count": 16,
      "id": "3513d907",
      "metadata": {
        "id": "3513d907"
      },
      "outputs": [
        {
          "name": "stdout",
          "output_type": "stream",
          "text": [
            "alpha = 0.0, f1: 0.9601391165044051\n",
            "alpha = 0.0, f1: 0.9630100917262642\n",
            "alpha = 0.0, f1: 0.9644067904383989\n",
            "alpha = 0.0, f1: 0.9644956832780809\n",
            "alpha = 0.01, f1: 0.9659095535241657\n",
            "alpha = 0.01, f1: 0.9673046970120245\n",
            "alpha = 0.02, f1: 0.9648980831523526\n",
            "alpha = 0.03, f1: 0.968041605709016\n",
            "alpha = 0.05, f1: 0.968041605709016\n",
            "alpha = 0.08, f1: 0.973513243029372\n",
            "alpha = 0.13, f1: 0.9709123949835853\n",
            "alpha = 0.21, f1: 0.9749353795532141\n",
            "alpha = 0.34, f1: 0.9722761286062915\n",
            "alpha = 0.55, f1: 0.9710193208978712\n",
            "alpha = 0.89, f1: 0.9719729022456025\n",
            "alpha = 1.44, f1: 0.9676660584673773\n",
            "alpha = 2.34, f1: 0.9344722150732231\n",
            "alpha = 3.79, f1: 0.8634859791846958\n",
            "alpha = 6.16, f1: 0.6548955827020698\n",
            "alpha = 10.0, f1: 0.45845537004344383\n"
          ]
        }
      ],
      "source": [
        "kf = model_selection.KFold(n_splits=5)\n",
        "\n",
        "for alpha in np.logspace(start=-3, stop=1, num=20):\n",
        "    cnb = ComplementNB(alpha=alpha);\n",
        "    cv_metrics = model_selection.cross_validate(\n",
        "        estimator=cnb,\n",
        "        X=X_train,\n",
        "        y=y_train,\n",
        "        cv=kf,\n",
        "        scoring='f1', # желаемая метрика\n",
        "        return_train_score=True,\n",
        "    )\n",
        "    f1 = np.mean(cv_metrics['test_score'])\n",
        "    print(f'alpha = {round(alpha, 2)}, f1: {f1}')\n"
      ]
    },
    {
      "attachments": {},
      "cell_type": "markdown",
      "id": "44487c64",
      "metadata": {},
      "source": [
        "Видим, что качество модели зависит от параметра `alpha`"
      ]
    }
  ],
  "metadata": {
    "colab": {
      "name": "SGA_unit6_NBC.ipynb",
      "provenance": []
    },
    "kernelspec": {
      "display_name": "Python 3 (ipykernel)",
      "language": "python",
      "name": "python3"
    },
    "language_info": {
      "codemirror_mode": {
        "name": "ipython",
        "version": 3
      },
      "file_extension": ".py",
      "mimetype": "text/x-python",
      "name": "python",
      "nbconvert_exporter": "python",
      "pygments_lexer": "ipython3",
      "version": "3.9.13"
    }
  },
  "nbformat": 4,
  "nbformat_minor": 5
}
